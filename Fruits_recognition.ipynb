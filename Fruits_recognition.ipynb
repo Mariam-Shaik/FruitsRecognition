{
  "nbformat": 4,
  "nbformat_minor": 0,
  "metadata": {
    "colab": {
      "name": "Fruits recognition",
      "provenance": [],
      "authorship_tag": "ABX9TyMA5ApS+6kuZKNugY8rI8d8",
      "include_colab_link": true
    },
    "kernelspec": {
      "name": "python3",
      "display_name": "Python 3"
    }
  },
  "cells": [
    {
      "cell_type": "markdown",
      "metadata": {
        "id": "view-in-github",
        "colab_type": "text"
      },
      "source": [
        "<a href=\"https://colab.research.google.com/github/Mariam-Shaik/FruitsRecognition/blob/master/Fruits_recognition.ipynb\" target=\"_parent\"><img src=\"https://colab.research.google.com/assets/colab-badge.svg\" alt=\"Open In Colab\"/></a>"
      ]
    },
    {
      "cell_type": "code",
      "metadata": {
        "id": "6YmhJaGImNG6",
        "colab_type": "code",
        "colab": {
          "base_uri": "https://localhost:8080/",
          "height": 122
        },
        "outputId": "c464029e-48d2-491b-ebf6-639ebc90dade"
      },
      "source": [
        "#Setting google drive as a directory for dataset\n",
        "from google.colab import drive \n",
        "drive.mount('/content/drive', force_remount=True)"
      ],
      "execution_count": null,
      "outputs": [
        {
          "output_type": "stream",
          "text": [
            "Go to this URL in a browser: https://accounts.google.com/o/oauth2/auth?client_id=947318989803-6bn6qk8qdgf4n4g3pfee6491hc0brc4i.apps.googleusercontent.com&redirect_uri=urn%3aietf%3awg%3aoauth%3a2.0%3aoob&response_type=code&scope=email%20https%3a%2f%2fwww.googleapis.com%2fauth%2fdocs.test%20https%3a%2f%2fwww.googleapis.com%2fauth%2fdrive%20https%3a%2f%2fwww.googleapis.com%2fauth%2fdrive.photos.readonly%20https%3a%2f%2fwww.googleapis.com%2fauth%2fpeopleapi.readonly\n",
            "\n",
            "Enter your authorization code:\n",
            "··········\n",
            "Mounted at /content/drive\n"
          ],
          "name": "stdout"
        }
      ]
    },
    {
      "cell_type": "code",
      "metadata": {
        "id": "yhwQvQzbtrED",
        "colab_type": "code",
        "colab": {}
      },
      "source": [
        "dir_path = \"/content/drive/My Drive/fruits\""
      ],
      "execution_count": null,
      "outputs": []
    },
    {
      "cell_type": "code",
      "metadata": {
        "id": "7V7pERbGzr9c",
        "colab_type": "code",
        "colab": {}
      },
      "source": [
        "#Importing Library\n",
        "import numpy as np\n",
        "import pandas as pd\n",
        "import cv2\n",
        "import os \n",
        "from PIL import Image"
      ],
      "execution_count": null,
      "outputs": []
    },
    {
      "cell_type": "code",
      "metadata": {
        "id": "joaMgx3wzu_Q",
        "colab_type": "code",
        "colab": {
          "base_uri": "https://localhost:8080/",
          "height": 1000
        },
        "outputId": "9f9fbc33-a3da-4295-f3b6-df7d04633427"
      },
      "source": [
        "#Checking the directory\n",
        "import os\n",
        "for dirname, _, filenames in os.walk(dir_path):\n",
        "    for filename in filenames:\n",
        "        print(os.path.join(dirname, filename))"
      ],
      "execution_count": null,
      "outputs": [
        {
          "output_type": "stream",
          "text": [
            "/content/drive/My Drive/fruits/apple_81.jpg\n",
            "/content/drive/My Drive/fruits/apple_89.jpg\n",
            "/content/drive/My Drive/fruits/apple_77.jpg\n",
            "/content/drive/My Drive/fruits/apple_83.jpg\n",
            "/content/drive/My Drive/fruits/apple_86.jpg\n",
            "/content/drive/My Drive/fruits/apple_90.jpg\n",
            "/content/drive/My Drive/fruits/apple_87.jpg\n",
            "/content/drive/My Drive/fruits/apple_80.jpg\n",
            "/content/drive/My Drive/fruits/apple_88.jpg\n",
            "/content/drive/My Drive/fruits/apple_84.jpg\n",
            "/content/drive/My Drive/fruits/apple_91.jpg\n",
            "/content/drive/My Drive/fruits/apple_93.jpg\n",
            "/content/drive/My Drive/fruits/apple_78.jpg\n",
            "/content/drive/My Drive/fruits/apple_95.jpg\n",
            "/content/drive/My Drive/fruits/apple_92.jpg\n",
            "/content/drive/My Drive/fruits/apple_85.jpg\n",
            "/content/drive/My Drive/fruits/apple_82.jpg\n",
            "/content/drive/My Drive/fruits/apple_94.jpg\n",
            "/content/drive/My Drive/fruits/apple_79.jpg\n",
            "/content/drive/My Drive/fruits/orange_80.jpg\n",
            "/content/drive/My Drive/fruits/orange_90.jpg\n",
            "/content/drive/My Drive/fruits/orange_95.jpg\n",
            "/content/drive/My Drive/fruits/orange_77.jpg\n",
            "/content/drive/My Drive/fruits/orange_79.jpg\n",
            "/content/drive/My Drive/fruits/orange_81.jpg\n",
            "/content/drive/My Drive/fruits/orange_86.jpg\n",
            "/content/drive/My Drive/fruits/orange_87.jpg\n",
            "/content/drive/My Drive/fruits/orange_91.jpg\n",
            "/content/drive/My Drive/fruits/orange_92.jpg\n",
            "/content/drive/My Drive/fruits/orange_93.jpg\n",
            "/content/drive/My Drive/fruits/orange_82.jpg\n",
            "/content/drive/My Drive/fruits/orange_94.jpg\n",
            "/content/drive/My Drive/fruits/orange_83.jpg\n",
            "/content/drive/My Drive/fruits/banana_84.jpg\n",
            "/content/drive/My Drive/fruits/banana_90.jpg\n",
            "/content/drive/My Drive/fruits/banana_77.jpg\n",
            "/content/drive/My Drive/fruits/banana_79.jpg\n",
            "/content/drive/My Drive/fruits/banana_81.jpg\n",
            "/content/drive/My Drive/fruits/banana_80.jpg\n",
            "/content/drive/My Drive/fruits/banana_82.jpg\n",
            "/content/drive/My Drive/fruits/banana_83.jpg\n",
            "/content/drive/My Drive/fruits/banana_85.jpg\n",
            "/content/drive/My Drive/fruits/banana_86.jpg\n",
            "/content/drive/My Drive/fruits/banana_87.jpg\n",
            "/content/drive/My Drive/fruits/banana_88.jpg\n",
            "/content/drive/My Drive/fruits/banana_91.jpg\n",
            "/content/drive/My Drive/fruits/banana_93.jpg\n",
            "/content/drive/My Drive/fruits/banana_92.jpg\n",
            "/content/drive/My Drive/fruits/banana_94.jpg\n",
            "/content/drive/My Drive/fruits/banana_78.jpg\n",
            "/content/drive/My Drive/fruits/banana_89.jpg\n",
            "/content/drive/My Drive/fruits/orange_84.jpg\n",
            "/content/drive/My Drive/fruits/orange_85.jpg\n",
            "/content/drive/My Drive/fruits/orange_78.jpg\n",
            "/content/drive/My Drive/fruits/orange_89.jpg\n",
            "/content/drive/My Drive/fruits/mixed_22.jpg\n",
            "/content/drive/My Drive/fruits/mixed_21.jpg\n",
            "/content/drive/My Drive/fruits/mixed_24.jpg\n",
            "/content/drive/My Drive/fruits/mixed_23.jpg\n",
            "/content/drive/My Drive/fruits/mixed_25.jpg\n",
            "/content/drive/My Drive/fruits/apple_77.xml\n",
            "/content/drive/My Drive/fruits/apple_78.xml\n",
            "/content/drive/My Drive/fruits/apple_79.xml\n",
            "/content/drive/My Drive/fruits/apple_80.xml\n",
            "/content/drive/My Drive/fruits/apple_81.xml\n",
            "/content/drive/My Drive/fruits/apple_82.xml\n",
            "/content/drive/My Drive/fruits/apple_83.xml\n",
            "/content/drive/My Drive/fruits/apple_84.xml\n",
            "/content/drive/My Drive/fruits/apple_85.xml\n",
            "/content/drive/My Drive/fruits/apple_86.xml\n",
            "/content/drive/My Drive/fruits/apple_87.xml\n",
            "/content/drive/My Drive/fruits/apple_88.xml\n",
            "/content/drive/My Drive/fruits/apple_89.xml\n",
            "/content/drive/My Drive/fruits/apple_90.xml\n",
            "/content/drive/My Drive/fruits/apple_91.xml\n",
            "/content/drive/My Drive/fruits/apple_92.xml\n",
            "/content/drive/My Drive/fruits/apple_93.xml\n",
            "/content/drive/My Drive/fruits/apple_94.xml\n",
            "/content/drive/My Drive/fruits/apple_95.xml\n",
            "/content/drive/My Drive/fruits/banana_77.xml\n",
            "/content/drive/My Drive/fruits/banana_78.xml\n",
            "/content/drive/My Drive/fruits/banana_80.xml\n",
            "/content/drive/My Drive/fruits/banana_79.xml\n",
            "/content/drive/My Drive/fruits/banana_81.xml\n",
            "/content/drive/My Drive/fruits/banana_82.xml\n",
            "/content/drive/My Drive/fruits/banana_83.xml\n",
            "/content/drive/My Drive/fruits/banana_84.xml\n",
            "/content/drive/My Drive/fruits/banana_85.xml\n",
            "/content/drive/My Drive/fruits/banana_86.xml\n",
            "/content/drive/My Drive/fruits/banana_87.xml\n",
            "/content/drive/My Drive/fruits/banana_88.xml\n",
            "/content/drive/My Drive/fruits/banana_89.xml\n",
            "/content/drive/My Drive/fruits/banana_90.xml\n",
            "/content/drive/My Drive/fruits/banana_91.xml\n",
            "/content/drive/My Drive/fruits/banana_92.xml\n",
            "/content/drive/My Drive/fruits/banana_93.xml\n",
            "/content/drive/My Drive/fruits/banana_94.xml\n",
            "/content/drive/My Drive/fruits/orange_77.xml\n",
            "/content/drive/My Drive/fruits/orange_78.xml\n",
            "/content/drive/My Drive/fruits/orange_79.xml\n",
            "/content/drive/My Drive/fruits/orange_80.xml\n",
            "/content/drive/My Drive/fruits/orange_81.xml\n",
            "/content/drive/My Drive/fruits/orange_82.xml\n",
            "/content/drive/My Drive/fruits/orange_83.xml\n",
            "/content/drive/My Drive/fruits/orange_84.xml\n",
            "/content/drive/My Drive/fruits/orange_85.xml\n",
            "/content/drive/My Drive/fruits/orange_86.xml\n",
            "/content/drive/My Drive/fruits/orange_87.xml\n",
            "/content/drive/My Drive/fruits/orange_89.xml\n",
            "/content/drive/My Drive/fruits/orange_90.xml\n",
            "/content/drive/My Drive/fruits/orange_91.xml\n",
            "/content/drive/My Drive/fruits/orange_92.xml\n",
            "/content/drive/My Drive/fruits/orange_93.xml\n",
            "/content/drive/My Drive/fruits/orange_94.xml\n",
            "/content/drive/My Drive/fruits/orange_95.xml\n",
            "/content/drive/My Drive/fruits/mixed_21.xml\n",
            "/content/drive/My Drive/fruits/mixed_22.xml\n",
            "/content/drive/My Drive/fruits/mixed_23.xml\n",
            "/content/drive/My Drive/fruits/mixed_24.xml\n",
            "/content/drive/My Drive/fruits/mixed_25.xml\n"
          ],
          "name": "stdout"
        }
      ]
    },
    {
      "cell_type": "code",
      "metadata": {
        "id": "2g2yyxTYzyM0",
        "colab_type": "code",
        "colab": {}
      },
      "source": [
        "images  =  []       \n",
        "labels  =  [] \n",
        "train_path  =  '/content/drive/My Drive/fruits'\n",
        "for filename in os.listdir('/content/drive/My Drive/fruits'):\n",
        "    if filename.split('.')[1]  ==  'jpg':\n",
        "        img  =  cv2.imread(os.path.join(train_path,filename))\n",
        "        arr = Image.fromarray(img,'RGB')\n",
        "        img_arr = arr.resize((50,50))\n",
        "        labels.append(filename.split('_')[0])\n",
        "        images.append(np.array(img_arr))"
      ],
      "execution_count": null,
      "outputs": []
    },
    {
      "cell_type": "code",
      "metadata": {
        "id": "yUZHU694z2oE",
        "colab_type": "code",
        "colab": {
          "base_uri": "https://localhost:8080/",
          "height": 34
        },
        "outputId": "0a775563-66e7-429c-910e-b9b2e74c4106"
      },
      "source": [
        "#Image Labels\n",
        "np.unique(labels)"
      ],
      "execution_count": null,
      "outputs": [
        {
          "output_type": "execute_result",
          "data": {
            "text/plain": [
              "array(['apple', 'banana', 'mixed', 'orange'], dtype='<U6')"
            ]
          },
          "metadata": {
            "tags": []
          },
          "execution_count": 6
        }
      ]
    },
    {
      "cell_type": "code",
      "metadata": {
        "id": "DY8z6rXdz7vV",
        "colab_type": "code",
        "colab": {
          "base_uri": "https://localhost:8080/",
          "height": 68
        },
        "outputId": "96a6a11e-e60a-4754-907b-cdcf97fde859"
      },
      "source": [
        "from sklearn.preprocessing import LabelEncoder\n",
        "lb_encod  =  LabelEncoder()\n",
        "labels = pd.DataFrame(labels)\n",
        "labels = lb_encod.fit_transform(labels[0])\n",
        "labels"
      ],
      "execution_count": null,
      "outputs": [
        {
          "output_type": "execute_result",
          "data": {
            "text/plain": [
              "array([0, 0, 0, 0, 0, 0, 0, 0, 0, 0, 0, 0, 0, 0, 0, 0, 0, 0, 0, 3, 3, 3,\n",
              "       3, 3, 3, 3, 3, 3, 3, 3, 3, 3, 3, 1, 1, 1, 1, 1, 1, 1, 1, 1, 1, 1,\n",
              "       1, 1, 1, 1, 1, 1, 1, 3, 3, 3, 3, 2, 2, 2, 2, 2])"
            ]
          },
          "metadata": {
            "tags": []
          },
          "execution_count": 7
        }
      ]
    },
    {
      "cell_type": "code",
      "metadata": {
        "id": "BkyA0o9lz_yi",
        "colab_type": "code",
        "colab": {
          "base_uri": "https://localhost:8080/",
          "height": 253
        },
        "outputId": "f7393574-4976-4f98-fa1e-a16f01b9e4a3"
      },
      "source": [
        "#Visualizing image\n",
        "import matplotlib.pyplot as plt\n",
        "figure = plt.figure(figsize = (8,8))\n",
        "ax = figure.add_subplot(121)\n",
        "ax.imshow(images[0])\n",
        "bx = figure.add_subplot(122)\n",
        "bx.imshow(images[30])\n",
        "plt.show()"
      ],
      "execution_count": null,
      "outputs": [
        {
          "output_type": "display_data",
          "data": {
            "image/png": "[encoded data removed]",
            "text/plain": [
              "<Figure size 576x576 with 2 Axes>"
            ]
          },
          "metadata": {
            "tags": [],
            "needs_background": "light"
          }
        }
      ]
    },
    {
      "cell_type": "code",
      "metadata": {
        "id": "qGfNzCug0Dle",
        "colab_type": "code",
        "colab": {}
      },
      "source": [
        "#Saving the image array and corresponding labels\n",
        "images = np.array(images)\n",
        "np.save(\"image\",images)\n",
        "np.save(\"labels\",labels)\n",
        "\n",
        "#Loading the images and labels that we have saved above\n",
        "image = np.load(\"image.npy\",allow_pickle = True)\n",
        "labels = np.load(\"labels.npy\",allow_pickle = True)\n",
        "\n",
        "img_shape  = np.arange(image.shape[0])\n",
        "np.random.shuffle(img_shape)\n",
        "image = image[img_shape]\n",
        "labels = labels[img_shape]"
      ],
      "execution_count": null,
      "outputs": []
    },
    {
      "cell_type": "code",
      "metadata": {
        "id": "eJPtLlbI0HK8",
        "colab_type": "code",
        "colab": {}
      },
      "source": [
        "num_classes = len(np.unique(labels))\n",
        "len_data = len(image)"
      ],
      "execution_count": null,
      "outputs": []
    },
    {
      "cell_type": "code",
      "metadata": {
        "id": "m_EExXUr0Jmj",
        "colab_type": "code",
        "colab": {
          "base_uri": "https://localhost:8080/",
          "height": 34
        },
        "outputId": "7d700f32-f1ce-42c9-a4a1-7706e899d47a"
      },
      "source": [
        "x_train, x_test = image[(int)(0.1*len_data):],image[:(int)(0.1*len_data)]\n",
        "y_train, y_test = labels[(int)(0.1*len_data):],labels[:(int)(0.1*len_data)]\n",
        "\n",
        "import keras\n",
        "y_train = keras.utils.to_categorical(y_train, num_classes)\n",
        "y_test = keras.utils.to_categorical(y_test, num_classes)"
      ],
      "execution_count": null,
      "outputs": [
        {
          "output_type": "stream",
          "text": [
            "Using TensorFlow backend.\n"
          ],
          "name": "stderr"
        }
      ]
    },
    {
      "cell_type": "code",
      "metadata": {
        "id": "Paxnv7bE0M-c",
        "colab_type": "code",
        "colab": {
          "base_uri": "https://localhost:8080/",
          "height": 527
        },
        "outputId": "366c8583-2cda-4b89-caeb-150f1610426e"
      },
      "source": [
        "from keras.models import Sequential\n",
        "from keras.layers import Dense,Conv2D,MaxPooling2D,Dropout,Flatten,MaxPool2D\n",
        "from keras.optimizers import RMSprop,Adam\n",
        "from keras.layers import Activation, Convolution2D, Dropout, Conv2D,AveragePooling2D, BatchNormalization,Flatten,GlobalAveragePooling2D\n",
        "from keras import layers\n",
        "from keras.regularizers import l2\n",
        "from keras.callbacks import ModelCheckpoint, ReduceLROnPlateau\n",
        "\n",
        "\n",
        "l2_reg = 0.001\n",
        "opt = Adam(lr = 0.001)\n",
        "\n",
        "#Defining the CNN Model\n",
        "cnn_model  =  Sequential()\n",
        "cnn_model.add(Conv2D(filters = 32, kernel_size = (2,2), input_shape = (50,50, 3), activation = 'relu',kernel_regularizer = l2(l2_reg)))\n",
        "cnn_model.add(MaxPool2D(pool_size = (2,2)))\n",
        "cnn_model.add(Conv2D(filters = 64, kernel_size = (2,2), activation = 'relu',kernel_regularizer = l2(l2_reg)))\n",
        "cnn_model.add(MaxPool2D(pool_size = (2,2)))\n",
        "cnn_model.add(Conv2D(filters = 128, kernel_size = (2,2), activation = 'relu',kernel_regularizer = l2(l2_reg)))\n",
        "cnn_model.add(MaxPool2D(pool_size = (2,2)))\n",
        "cnn_model.add(Dropout(0.1))\n",
        "\n",
        "cnn_model.add(Flatten())\n",
        "\n",
        "cnn_model.add(Dense(64, activation = 'relu'))\n",
        "cnn_model.add(Dense(16, activation = 'relu'))\n",
        "cnn_model.add(Dense(4, activation = 'softmax'))\n",
        "\n",
        "#CNN Model Summary\n",
        "cnn_model.summary()"
      ],
      "execution_count": null,
      "outputs": [
        {
          "output_type": "stream",
          "text": [
            "Model: \"sequential_1\"\n",
            "_________________________________________________________________\n",
            "Layer (type)                 Output Shape              Param #   \n",
            "=================================================================\n",
            "conv2d_1 (Conv2D)            (None, 49, 49, 32)        416       \n",
            "_________________________________________________________________\n",
            "max_pooling2d_1 (MaxPooling2 (None, 24, 24, 32)        0         \n",
            "_________________________________________________________________\n",
            "conv2d_2 (Conv2D)            (None, 23, 23, 64)        8256      \n",
            "_________________________________________________________________\n",
            "max_pooling2d_2 (MaxPooling2 (None, 11, 11, 64)        0         \n",
            "_________________________________________________________________\n",
            "conv2d_3 (Conv2D)            (None, 10, 10, 128)       32896     \n",
            "_________________________________________________________________\n",
            "max_pooling2d_3 (MaxPooling2 (None, 5, 5, 128)         0         \n",
            "_________________________________________________________________\n",
            "dropout_1 (Dropout)          (None, 5, 5, 128)         0         \n",
            "_________________________________________________________________\n",
            "flatten_1 (Flatten)          (None, 3200)              0         \n",
            "_________________________________________________________________\n",
            "dense_1 (Dense)              (None, 64)                204864    \n",
            "_________________________________________________________________\n",
            "dense_2 (Dense)              (None, 16)                1040      \n",
            "_________________________________________________________________\n",
            "dense_3 (Dense)              (None, 4)                 68        \n",
            "=================================================================\n",
            "Total params: 247,540\n",
            "Trainable params: 247,540\n",
            "Non-trainable params: 0\n",
            "_________________________________________________________________\n"
          ],
          "name": "stdout"
        }
      ]
    },
    {
      "cell_type": "code",
      "metadata": {
        "id": "f_FZYrjz0SFU",
        "colab_type": "code",
        "colab": {}
      },
      "source": [
        "#Compiling the model\n",
        "cnn_model.compile(loss = 'categorical_crossentropy', optimizer = opt, metrics = ['accuracy'])"
      ],
      "execution_count": null,
      "outputs": []
    },
    {
      "cell_type": "code",
      "metadata": {
        "id": "JJaPLlYC0VNb",
        "colab_type": "code",
        "colab": {
          "base_uri": "https://localhost:8080/",
          "height": 1000
        },
        "outputId": "4a24dc06-9c1f-4458-f854-873700ae7b1c"
      },
      "source": [
        "#Training the CNN Model\n",
        "filepath = 'weights.hdf5'\n",
        "checkpoint = ModelCheckpoint(filepath, monitor='loss', verbose=1, save_best_only=True, mode='min')\n",
        "history = cnn_model.fit(x_train, y_train, batch_size = 128, epochs = 110, verbose = 1, validation_split = 0.33)\n"
      ],
      "execution_count": null,
      "outputs": [
        {
          "output_type": "stream",
          "text": [
            "Train on 36 samples, validate on 18 samples\n",
            "Epoch 1/110\n",
            "36/36 [==============================] - 1s 17ms/step - loss: 7.2317 - accuracy: 0.3056 - val_loss: 21.7773 - val_accuracy: 0.1667\n",
            "Epoch 2/110\n",
            "36/36 [==============================] - 0s 3ms/step - loss: 20.4657 - accuracy: 0.3333 - val_loss: 6.3693 - val_accuracy: 0.3889\n",
            "Epoch 3/110\n",
            "36/36 [==============================] - 0s 3ms/step - loss: 11.4108 - accuracy: 0.3056 - val_loss: 3.7384 - val_accuracy: 0.3889\n",
            "Epoch 4/110\n",
            "36/36 [==============================] - 0s 3ms/step - loss: 5.2650 - accuracy: 0.2222 - val_loss: 16.5215 - val_accuracy: 0.1667\n",
            "Epoch 5/110\n",
            "36/36 [==============================] - 0s 3ms/step - loss: 14.9138 - accuracy: 0.3333 - val_loss: 10.8147 - val_accuracy: 0.1667\n",
            "Epoch 6/110\n",
            "36/36 [==============================] - 0s 3ms/step - loss: 8.8088 - accuracy: 0.3333 - val_loss: 4.5007 - val_accuracy: 0.4444\n",
            "Epoch 7/110\n",
            "36/36 [==============================] - 0s 3ms/step - loss: 4.2305 - accuracy: 0.3889 - val_loss: 2.4619 - val_accuracy: 0.3889\n",
            "Epoch 8/110\n",
            "36/36 [==============================] - 0s 3ms/step - loss: 3.0410 - accuracy: 0.3611 - val_loss: 1.7100 - val_accuracy: 0.3333\n",
            "Epoch 9/110\n",
            "36/36 [==============================] - 0s 3ms/step - loss: 1.8221 - accuracy: 0.3889 - val_loss: 1.4861 - val_accuracy: 0.0556\n",
            "Epoch 10/110\n",
            "36/36 [==============================] - 0s 3ms/step - loss: 1.5998 - accuracy: 0.3333 - val_loss: 1.5262 - val_accuracy: 0.0556\n",
            "Epoch 11/110\n",
            "36/36 [==============================] - 0s 3ms/step - loss: 1.7073 - accuracy: 0.1389 - val_loss: 1.5050 - val_accuracy: 0.0556\n",
            "Epoch 12/110\n",
            "36/36 [==============================] - 0s 3ms/step - loss: 1.6332 - accuracy: 0.0556 - val_loss: 1.5015 - val_accuracy: 0.0556\n",
            "Epoch 13/110\n",
            "36/36 [==============================] - 0s 3ms/step - loss: 1.5428 - accuracy: 0.0833 - val_loss: 1.5050 - val_accuracy: 0.0556\n",
            "Epoch 14/110\n",
            "36/36 [==============================] - 0s 3ms/step - loss: 1.5647 - accuracy: 0.1389 - val_loss: 1.5119 - val_accuracy: 0.0556\n",
            "Epoch 15/110\n",
            "36/36 [==============================] - 0s 3ms/step - loss: 1.5851 - accuracy: 0.1111 - val_loss: 1.5112 - val_accuracy: 0.0556\n",
            "Epoch 16/110\n",
            "36/36 [==============================] - 0s 3ms/step - loss: 1.5531 - accuracy: 0.0833 - val_loss: 1.5105 - val_accuracy: 0.0556\n",
            "Epoch 17/110\n",
            "36/36 [==============================] - 0s 3ms/step - loss: 1.5159 - accuracy: 0.1389 - val_loss: 1.5098 - val_accuracy: 0.0556\n",
            "Epoch 18/110\n",
            "36/36 [==============================] - 0s 3ms/step - loss: 1.5408 - accuracy: 0.1111 - val_loss: 1.5090 - val_accuracy: 0.0556\n",
            "Epoch 19/110\n",
            "36/36 [==============================] - 0s 3ms/step - loss: 1.5011 - accuracy: 0.1111 - val_loss: 1.5083 - val_accuracy: 0.0556\n",
            "Epoch 20/110\n",
            "36/36 [==============================] - 0s 3ms/step - loss: 1.5043 - accuracy: 0.1111 - val_loss: 1.5076 - val_accuracy: 0.0556\n",
            "Epoch 21/110\n",
            "36/36 [==============================] - 0s 3ms/step - loss: 1.5034 - accuracy: 0.1111 - val_loss: 1.5022 - val_accuracy: 0.0556\n",
            "Epoch 22/110\n",
            "36/36 [==============================] - 0s 3ms/step - loss: 1.4965 - accuracy: 0.1111 - val_loss: 1.4963 - val_accuracy: 0.0556\n",
            "Epoch 23/110\n",
            "36/36 [==============================] - 0s 3ms/step - loss: 1.4949 - accuracy: 0.1111 - val_loss: 1.4924 - val_accuracy: 0.1667\n",
            "Epoch 24/110\n",
            "36/36 [==============================] - 0s 3ms/step - loss: 1.4935 - accuracy: 0.3333 - val_loss: 1.4810 - val_accuracy: 0.1667\n",
            "Epoch 25/110\n",
            "36/36 [==============================] - 0s 3ms/step - loss: 1.4823 - accuracy: 0.3333 - val_loss: 1.4614 - val_accuracy: 0.1667\n",
            "Epoch 26/110\n",
            "36/36 [==============================] - 0s 3ms/step - loss: 1.4643 - accuracy: 0.4167 - val_loss: 1.4617 - val_accuracy: 0.1667\n",
            "Epoch 27/110\n",
            "36/36 [==============================] - 0s 3ms/step - loss: 1.4889 - accuracy: 0.3611 - val_loss: 1.4714 - val_accuracy: 0.1111\n",
            "Epoch 28/110\n",
            "36/36 [==============================] - 0s 3ms/step - loss: 1.5394 - accuracy: 0.3333 - val_loss: 1.4575 - val_accuracy: 0.1667\n",
            "Epoch 29/110\n",
            "36/36 [==============================] - 0s 3ms/step - loss: 1.5044 - accuracy: 0.3889 - val_loss: 1.4541 - val_accuracy: 0.1667\n",
            "Epoch 30/110\n",
            "36/36 [==============================] - 0s 3ms/step - loss: 1.4403 - accuracy: 0.3889 - val_loss: 1.4510 - val_accuracy: 0.1667\n",
            "Epoch 31/110\n",
            "36/36 [==============================] - 0s 3ms/step - loss: 1.4649 - accuracy: 0.3611 - val_loss: 1.4513 - val_accuracy: 0.1667\n",
            "Epoch 32/110\n",
            "36/36 [==============================] - 0s 3ms/step - loss: 1.4461 - accuracy: 0.4167 - val_loss: 1.4485 - val_accuracy: 0.1667\n",
            "Epoch 33/110\n",
            "36/36 [==============================] - 0s 3ms/step - loss: 1.4434 - accuracy: 0.4167 - val_loss: 1.4448 - val_accuracy: 0.1667\n",
            "Epoch 34/110\n",
            "36/36 [==============================] - 0s 3ms/step - loss: 1.4262 - accuracy: 0.4444 - val_loss: 1.4211 - val_accuracy: 0.2778\n",
            "Epoch 35/110\n",
            "36/36 [==============================] - 0s 3ms/step - loss: 1.4031 - accuracy: 0.5000 - val_loss: 1.3977 - val_accuracy: 0.2778\n",
            "Epoch 36/110\n",
            "36/36 [==============================] - 0s 3ms/step - loss: 1.3775 - accuracy: 0.5556 - val_loss: 1.4982 - val_accuracy: 0.2778\n",
            "Epoch 37/110\n",
            "36/36 [==============================] - 0s 3ms/step - loss: 1.5024 - accuracy: 0.3889 - val_loss: 1.3743 - val_accuracy: 0.2222\n",
            "Epoch 38/110\n",
            "36/36 [==============================] - 0s 3ms/step - loss: 1.3198 - accuracy: 0.4722 - val_loss: 1.3575 - val_accuracy: 0.3333\n",
            "Epoch 39/110\n",
            "36/36 [==============================] - 0s 3ms/step - loss: 1.3521 - accuracy: 0.4722 - val_loss: 1.4459 - val_accuracy: 0.2222\n",
            "Epoch 40/110\n",
            "36/36 [==============================] - 0s 3ms/step - loss: 1.3774 - accuracy: 0.4444 - val_loss: 1.5979 - val_accuracy: 0.1667\n",
            "Epoch 41/110\n",
            "36/36 [==============================] - 0s 3ms/step - loss: 1.4084 - accuracy: 0.3611 - val_loss: 1.5723 - val_accuracy: 0.1667\n",
            "Epoch 42/110\n",
            "36/36 [==============================] - 0s 3ms/step - loss: 1.3661 - accuracy: 0.4167 - val_loss: 1.4420 - val_accuracy: 0.2778\n",
            "Epoch 43/110\n",
            "36/36 [==============================] - 0s 3ms/step - loss: 1.1794 - accuracy: 0.4722 - val_loss: 1.3898 - val_accuracy: 0.2778\n",
            "Epoch 44/110\n",
            "36/36 [==============================] - 0s 3ms/step - loss: 1.1243 - accuracy: 0.5278 - val_loss: 1.2709 - val_accuracy: 0.4444\n",
            "Epoch 45/110\n",
            "36/36 [==============================] - 0s 3ms/step - loss: 1.0465 - accuracy: 0.5833 - val_loss: 1.1882 - val_accuracy: 0.3333\n",
            "Epoch 46/110\n",
            "36/36 [==============================] - 0s 3ms/step - loss: 0.9582 - accuracy: 0.5278 - val_loss: 1.2069 - val_accuracy: 0.2222\n",
            "Epoch 47/110\n",
            "36/36 [==============================] - 0s 3ms/step - loss: 1.1449 - accuracy: 0.5278 - val_loss: 1.1764 - val_accuracy: 0.2778\n",
            "Epoch 48/110\n",
            "36/36 [==============================] - 0s 3ms/step - loss: 1.0339 - accuracy: 0.5556 - val_loss: 1.1644 - val_accuracy: 0.3333\n",
            "Epoch 49/110\n",
            "36/36 [==============================] - 0s 3ms/step - loss: 0.9684 - accuracy: 0.5556 - val_loss: 1.1836 - val_accuracy: 0.3333\n",
            "Epoch 50/110\n",
            "36/36 [==============================] - 0s 3ms/step - loss: 0.9282 - accuracy: 0.5833 - val_loss: 1.2848 - val_accuracy: 0.3333\n",
            "Epoch 51/110\n",
            "36/36 [==============================] - 0s 3ms/step - loss: 0.9189 - accuracy: 0.5278 - val_loss: 1.2346 - val_accuracy: 0.3333\n",
            "Epoch 52/110\n",
            "36/36 [==============================] - 0s 3ms/step - loss: 0.9133 - accuracy: 0.5556 - val_loss: 1.2095 - val_accuracy: 0.4444\n",
            "Epoch 53/110\n",
            "36/36 [==============================] - 0s 3ms/step - loss: 0.8804 - accuracy: 0.6111 - val_loss: 1.2120 - val_accuracy: 0.3333\n",
            "Epoch 54/110\n",
            "36/36 [==============================] - 0s 3ms/step - loss: 0.8521 - accuracy: 0.6111 - val_loss: 1.1532 - val_accuracy: 0.4444\n",
            "Epoch 55/110\n",
            "36/36 [==============================] - 0s 3ms/step - loss: 0.9311 - accuracy: 0.5556 - val_loss: 1.0962 - val_accuracy: 0.4444\n",
            "Epoch 56/110\n",
            "36/36 [==============================] - 0s 3ms/step - loss: 0.8849 - accuracy: 0.6111 - val_loss: 1.1885 - val_accuracy: 0.3333\n",
            "Epoch 57/110\n",
            "36/36 [==============================] - 0s 3ms/step - loss: 0.8427 - accuracy: 0.5833 - val_loss: 1.3100 - val_accuracy: 0.2778\n",
            "Epoch 58/110\n",
            "36/36 [==============================] - 0s 3ms/step - loss: 0.7938 - accuracy: 0.6389 - val_loss: 1.2613 - val_accuracy: 0.2778\n",
            "Epoch 59/110\n",
            "36/36 [==============================] - 0s 3ms/step - loss: 0.8505 - accuracy: 0.5833 - val_loss: 1.0893 - val_accuracy: 0.3889\n",
            "Epoch 60/110\n",
            "36/36 [==============================] - 0s 3ms/step - loss: 0.7978 - accuracy: 0.6111 - val_loss: 0.9906 - val_accuracy: 0.4444\n",
            "Epoch 61/110\n",
            "36/36 [==============================] - 0s 3ms/step - loss: 0.8253 - accuracy: 0.6111 - val_loss: 1.0134 - val_accuracy: 0.5000\n",
            "Epoch 62/110\n",
            "36/36 [==============================] - 0s 4ms/step - loss: 0.7694 - accuracy: 0.6389 - val_loss: 1.0324 - val_accuracy: 0.5000\n",
            "Epoch 63/110\n",
            "36/36 [==============================] - 0s 3ms/step - loss: 0.7591 - accuracy: 0.6389 - val_loss: 1.0356 - val_accuracy: 0.5000\n",
            "Epoch 64/110\n",
            "36/36 [==============================] - 0s 3ms/step - loss: 0.7372 - accuracy: 0.6389 - val_loss: 1.0201 - val_accuracy: 0.5000\n",
            "Epoch 65/110\n",
            "36/36 [==============================] - 0s 3ms/step - loss: 0.7498 - accuracy: 0.6389 - val_loss: 1.0799 - val_accuracy: 0.4444\n",
            "Epoch 66/110\n",
            "36/36 [==============================] - 0s 3ms/step - loss: 0.7366 - accuracy: 0.6389 - val_loss: 1.2338 - val_accuracy: 0.2778\n",
            "Epoch 67/110\n",
            "36/36 [==============================] - 0s 3ms/step - loss: 0.7758 - accuracy: 0.6111 - val_loss: 1.1314 - val_accuracy: 0.3889\n",
            "Epoch 68/110\n",
            "36/36 [==============================] - 0s 3ms/step - loss: 0.7155 - accuracy: 0.6111 - val_loss: 1.0142 - val_accuracy: 0.3889\n",
            "Epoch 69/110\n",
            "36/36 [==============================] - 0s 3ms/step - loss: 0.6879 - accuracy: 0.6389 - val_loss: 0.9485 - val_accuracy: 0.3889\n",
            "Epoch 70/110\n",
            "36/36 [==============================] - 0s 3ms/step - loss: 0.7178 - accuracy: 0.6389 - val_loss: 0.9400 - val_accuracy: 0.4444\n",
            "Epoch 71/110\n",
            "36/36 [==============================] - 0s 3ms/step - loss: 0.7361 - accuracy: 0.6111 - val_loss: 0.9317 - val_accuracy: 0.4444\n",
            "Epoch 72/110\n",
            "36/36 [==============================] - 0s 3ms/step - loss: 0.6766 - accuracy: 0.6389 - val_loss: 0.9659 - val_accuracy: 0.3889\n",
            "Epoch 73/110\n",
            "36/36 [==============================] - 0s 3ms/step - loss: 0.6696 - accuracy: 0.6389 - val_loss: 1.0362 - val_accuracy: 0.6111\n",
            "Epoch 74/110\n",
            "36/36 [==============================] - 0s 3ms/step - loss: 0.6724 - accuracy: 0.6944 - val_loss: 1.1188 - val_accuracy: 0.7222\n",
            "Epoch 75/110\n",
            "36/36 [==============================] - 0s 3ms/step - loss: 0.7181 - accuracy: 0.8056 - val_loss: 1.1491 - val_accuracy: 0.7222\n",
            "Epoch 76/110\n",
            "36/36 [==============================] - 0s 3ms/step - loss: 0.6976 - accuracy: 0.7778 - val_loss: 1.0975 - val_accuracy: 0.6111\n",
            "Epoch 77/110\n",
            "36/36 [==============================] - 0s 3ms/step - loss: 0.6795 - accuracy: 0.7500 - val_loss: 1.0183 - val_accuracy: 0.5556\n",
            "Epoch 78/110\n",
            "36/36 [==============================] - 0s 3ms/step - loss: 0.6775 - accuracy: 0.7500 - val_loss: 0.9537 - val_accuracy: 0.5000\n",
            "Epoch 79/110\n",
            "36/36 [==============================] - 0s 3ms/step - loss: 0.6745 - accuracy: 0.6944 - val_loss: 0.9620 - val_accuracy: 0.4444\n",
            "Epoch 80/110\n",
            "36/36 [==============================] - 0s 3ms/step - loss: 0.6837 - accuracy: 0.6667 - val_loss: 0.9724 - val_accuracy: 0.5000\n",
            "Epoch 81/110\n",
            "36/36 [==============================] - 0s 3ms/step - loss: 0.6620 - accuracy: 0.6667 - val_loss: 1.0352 - val_accuracy: 0.5000\n",
            "Epoch 82/110\n",
            "36/36 [==============================] - 0s 3ms/step - loss: 0.6503 - accuracy: 0.7222 - val_loss: 1.1209 - val_accuracy: 0.5000\n",
            "Epoch 83/110\n",
            "36/36 [==============================] - 0s 3ms/step - loss: 0.6500 - accuracy: 0.7778 - val_loss: 1.1497 - val_accuracy: 0.5556\n",
            "Epoch 84/110\n",
            "36/36 [==============================] - 0s 3ms/step - loss: 0.6203 - accuracy: 0.8056 - val_loss: 1.1278 - val_accuracy: 0.5556\n",
            "Epoch 85/110\n",
            "36/36 [==============================] - 0s 3ms/step - loss: 0.6154 - accuracy: 0.7778 - val_loss: 1.0292 - val_accuracy: 0.5000\n",
            "Epoch 86/110\n",
            "36/36 [==============================] - 0s 3ms/step - loss: 0.6180 - accuracy: 0.7500 - val_loss: 0.9776 - val_accuracy: 0.5000\n",
            "Epoch 87/110\n",
            "36/36 [==============================] - 0s 3ms/step - loss: 0.6254 - accuracy: 0.7222 - val_loss: 0.9804 - val_accuracy: 0.5000\n",
            "Epoch 88/110\n",
            "36/36 [==============================] - 0s 3ms/step - loss: 0.6169 - accuracy: 0.7500 - val_loss: 1.0849 - val_accuracy: 0.6111\n",
            "Epoch 89/110\n",
            "36/36 [==============================] - 0s 3ms/step - loss: 0.5863 - accuracy: 0.7222 - val_loss: 1.2580 - val_accuracy: 0.5556\n",
            "Epoch 90/110\n",
            "36/36 [==============================] - 0s 3ms/step - loss: 0.5576 - accuracy: 0.7778 - val_loss: 1.0718 - val_accuracy: 0.5556\n",
            "Epoch 91/110\n",
            "36/36 [==============================] - 0s 3ms/step - loss: 0.5895 - accuracy: 0.8333 - val_loss: 1.0591 - val_accuracy: 0.4444\n",
            "Epoch 92/110\n",
            "36/36 [==============================] - 0s 3ms/step - loss: 0.6295 - accuracy: 0.7500 - val_loss: 1.0164 - val_accuracy: 0.5000\n",
            "Epoch 93/110\n",
            "36/36 [==============================] - 0s 3ms/step - loss: 0.4984 - accuracy: 0.8333 - val_loss: 1.1869 - val_accuracy: 0.5556\n",
            "Epoch 94/110\n",
            "36/36 [==============================] - 0s 3ms/step - loss: 0.5627 - accuracy: 0.8056 - val_loss: 1.1568 - val_accuracy: 0.6111\n",
            "Epoch 95/110\n",
            "36/36 [==============================] - 0s 3ms/step - loss: 0.6074 - accuracy: 0.7500 - val_loss: 0.9354 - val_accuracy: 0.6111\n",
            "Epoch 96/110\n",
            "36/36 [==============================] - 0s 3ms/step - loss: 0.5008 - accuracy: 0.8056 - val_loss: 1.0761 - val_accuracy: 0.5556\n",
            "Epoch 97/110\n",
            "36/36 [==============================] - 0s 3ms/step - loss: 0.5638 - accuracy: 0.6944 - val_loss: 1.0295 - val_accuracy: 0.5000\n",
            "Epoch 98/110\n",
            "36/36 [==============================] - 0s 3ms/step - loss: 0.5500 - accuracy: 0.6944 - val_loss: 0.9082 - val_accuracy: 0.5556\n",
            "Epoch 99/110\n",
            "36/36 [==============================] - 0s 3ms/step - loss: 0.4533 - accuracy: 0.8333 - val_loss: 1.0719 - val_accuracy: 0.6111\n",
            "Epoch 100/110\n",
            "36/36 [==============================] - 0s 3ms/step - loss: 0.4654 - accuracy: 0.8056 - val_loss: 1.3936 - val_accuracy: 0.5556\n",
            "Epoch 101/110\n",
            "36/36 [==============================] - 0s 3ms/step - loss: 0.5269 - accuracy: 0.8333 - val_loss: 1.1802 - val_accuracy: 0.6111\n",
            "Epoch 102/110\n",
            "36/36 [==============================] - 0s 3ms/step - loss: 0.4112 - accuracy: 0.8611 - val_loss: 0.9515 - val_accuracy: 0.7222\n",
            "Epoch 103/110\n",
            "36/36 [==============================] - 0s 3ms/step - loss: 0.3923 - accuracy: 0.8611 - val_loss: 0.9903 - val_accuracy: 0.6667\n",
            "Epoch 104/110\n",
            "36/36 [==============================] - 0s 3ms/step - loss: 0.4191 - accuracy: 0.8333 - val_loss: 1.0230 - val_accuracy: 0.6111\n",
            "Epoch 105/110\n",
            "36/36 [==============================] - 0s 3ms/step - loss: 0.4777 - accuracy: 0.7778 - val_loss: 0.9088 - val_accuracy: 0.7222\n",
            "Epoch 106/110\n",
            "36/36 [==============================] - 0s 3ms/step - loss: 0.3763 - accuracy: 0.8611 - val_loss: 0.9892 - val_accuracy: 0.6667\n",
            "Epoch 107/110\n",
            "36/36 [==============================] - 0s 3ms/step - loss: 0.3414 - accuracy: 0.8611 - val_loss: 1.2676 - val_accuracy: 0.6111\n",
            "Epoch 108/110\n",
            "36/36 [==============================] - 0s 3ms/step - loss: 0.3614 - accuracy: 0.8611 - val_loss: 1.5230 - val_accuracy: 0.6111\n",
            "Epoch 109/110\n",
            "36/36 [==============================] - 0s 3ms/step - loss: 0.4028 - accuracy: 0.8333 - val_loss: 1.4248 - val_accuracy: 0.6111\n",
            "Epoch 110/110\n",
            "36/36 [==============================] - 0s 3ms/step - loss: 0.3826 - accuracy: 0.8333 - val_loss: 1.2110 - val_accuracy: 0.6667\n"
          ],
          "name": "stdout"
        }
      ]
    },
    {
      "cell_type": "code",
      "metadata": {
        "id": "W6yhOkPZ0ZmZ",
        "colab_type": "code",
        "colab": {
          "base_uri": "https://localhost:8080/",
          "height": 68
        },
        "outputId": "936f6bde-86d0-4ab3-b438-a9aa5b997d0d"
      },
      "source": [
        "#Check the performance\n",
        "scores  =  cnn_model.evaluate(x_test, y_test, verbose = 1)\n",
        "print('Test loss:', scores[0])\n",
        "print('Test accuracy:', scores[1])\n"
      ],
      "execution_count": null,
      "outputs": [
        {
          "output_type": "stream",
          "text": [
            "\r6/6 [==============================] - 0s 1ms/step\n",
            "Test loss: 0.39775151014328003\n",
            "Test accuracy: 1.0\n"
          ],
          "name": "stdout"
        }
      ]
    },
    {
      "cell_type": "code",
      "metadata": {
        "id": "rC7FyNOG0cvu",
        "colab_type": "code",
        "colab": {
          "base_uri": "https://localhost:8080/",
          "height": 340
        },
        "outputId": "dd67d7b8-a60c-4c57-b452-1a6b9f814621"
      },
      "source": [
        "#Visualize the performance\n",
        "figure = plt.figure(figsize = (10,5))\n",
        "ax = figure.add_subplot(121)\n",
        "ax.plot(history.history['accuracy'])\n",
        "ax.plot(history.history['val_accuracy'])\n",
        "ax.legend(['Training Accuracy','Val Accuracy'])\n",
        "bx = figure.add_subplot(122)\n",
        "bx.plot(history.history['loss'])\n",
        "bx.plot(history.history['val_loss'])\n",
        "bx.legend(['Training Loss','Val Loss'])"
      ],
      "execution_count": null,
      "outputs": [
        {
          "output_type": "execute_result",
          "data": {
            "text/plain": [
              "<matplotlib.legend.Legend at 0x7f39112d9e10>"
            ]
          },
          "metadata": {
            "tags": []
          },
          "execution_count": 16
        },
        {
          "output_type": "display_data",
          "data": {
            "image/png": "[encoded data removed]",
            "text/plain": [
              "<Figure size 720x360 with 2 Axes>"
            ]
          },
          "metadata": {
            "tags": [],
            "needs_background": "light"
          }
        }
      ]
    },
    {
      "cell_type": "code",
      "metadata": {
        "id": "JFxTevcY0h_o",
        "colab_type": "code",
        "colab": {
          "base_uri": "https://localhost:8080/",
          "height": 301
        },
        "outputId": "e55fe86b-6b9f-4f66-9f78-ad4132fdf340"
      },
      "source": [
        "#Test\n",
        "test_path  =  '/content/drive/My Drive/fruits'\n",
        "t_labels = []\n",
        "t_images = []\n",
        "for filename in os.listdir('/content/drive/My Drive/fruits'):\n",
        "    if filename.split('.')[1]  ==  'jpg':\n",
        "        img  =  cv2.imread(os.path.join(test_path,filename))\n",
        "        arr = Image.fromarray(img,'RGB')\n",
        "        img_arr = arr.resize((50,50))\n",
        "        t_labels.append(filename.split('_')[0])\n",
        "        t_images.append(np.array(img_arr))\n",
        "\n",
        "test_images = np.array(t_images)\n",
        "np.save(\"test_image\",test_images)\n",
        "test_image = np.load(\"image.npy\",allow_pickle = True)\n",
        "\n",
        "pred = np.argmax(cnn_model.predict(test_image),axis = 1)\n",
        "prediction =  lb_encod.inverse_transform(pred)\n",
        "\n",
        "test_image = np.expand_dims(test_image[25],axis = 0)\n",
        "pred_test = np.argmax(cnn_model.predict(test_image),axis = 1)\n",
        "prediction_test  =  lb_encod.inverse_transform(pred_test)\n",
        "\n",
        "print(prediction_test[0])\n",
        "plt.imshow(test_images[10])"
      ],
      "execution_count": null,
      "outputs": [
        {
          "output_type": "stream",
          "text": [
            "apple\n"
          ],
          "name": "stdout"
        },
        {
          "output_type": "execute_result",
          "data": {
            "text/plain": [
              "<matplotlib.image.AxesImage at 0x7f39571c2f28>"
            ]
          },
          "metadata": {
            "tags": []
          },
          "execution_count": 21
        },
        {
          "output_type": "display_data",
          "data": {
            "image/png": "[encoded data removed]",
            "text/plain": [
              "<Figure size 432x288 with 1 Axes>"
            ]
          },
          "metadata": {
            "tags": [],
            "needs_background": "light"
          }
        }
      ]
    }
  ]
}